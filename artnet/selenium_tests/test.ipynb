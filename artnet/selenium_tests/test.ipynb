{
 "cells": [
  {
   "cell_type": "markdown",
   "metadata": {},
   "source": [
    "<h2> Project Name: Artnet </h2>\n",
    "Group Members:\n",
    "<table>\n",
    "    <tr> <td> A.Faiyaz </td></tr>\n",
    "    <tr> <td> Wasif Rahman </td> </tr>\n",
    "    <tr> <td> Mashrufa Mehnaz Audri</td> </tr>\n",
    "</table>"
   ]
  },
  {
   "cell_type": "markdown",
   "metadata": {},
   "source": [
    "Importing selenium and other important function for our test"
   ]
  },
  {
   "cell_type": "code",
   "execution_count": 43,
   "metadata": {},
   "outputs": [
    {
     "name": "stdout",
     "output_type": "stream",
     "text": [
      "Imported!\n"
     ]
    }
   ],
   "source": [
    "from selenium import webdriver\n",
    "from selenium.webdriver.common.keys import Keys\n",
    "from selenium.webdriver.common.by import By\n",
    "from selenium.webdriver.support.ui import Select\n",
    "import time\n",
    "import os\n",
    "import sys\n",
    "print(\"Imported!\")\n",
    "import string,random\n",
    "def get_random_text(length=8):\n",
    "    ''' \n",
    "    A simple function that generates random text \n",
    "    used for generating password and username in\n",
    "    our testing script \n",
    "    '''\n",
    "    character_letters =list(string.ascii_letters)  \n",
    "    random.shuffle(character_letters)\n",
    "    password=\"\".join(character_letters[:length])\n",
    "    return password\n",
    "    \n",
    "def login(driver):\n",
    "        '''\n",
    "        seperate function for login \n",
    "        because login is needed for various functions\n",
    "        '''\n",
    "        \n",
    "        driver.get('http://127.0.0.1:8000/accounts/login/')\n",
    "        driver.maximize_window()\n",
    "        username_field=driver.find_element(By.ID,'id_username')\n",
    "        password_field=driver.find_element(By.ID,'id_password')\n",
    "        login_button=driver.find_element(By.XPATH,\"/html/body/form/input[2]\")\n",
    "\n",
    "        time.sleep(1)\n",
    "        username_field.click()\n",
    "        time.sleep(1)\n",
    "        username_field.clear()\n",
    "        time.sleep(1)\n",
    "        username_field.send_keys(\"admin\")\n",
    "        \n",
    "        time.sleep(1)\n",
    "        password_field.click()\n",
    "        time.sleep(1)\n",
    "        password_field.clear()\n",
    "        time.sleep(1)\n",
    "        password_field.send_keys(\"admin\")\n",
    "        \n",
    "        time.sleep(2)\n",
    "        login_button.click()"
   ]
  },
  {
   "cell_type": "markdown",
   "metadata": {},
   "source": [
    "Now at first we will test our login page:"
   ]
  },
  {
   "cell_type": "code",
   "execution_count": 41,
   "metadata": {},
   "outputs": [
    {
     "name": "stderr",
     "output_type": "stream",
     "text": [
      "C:\\Users\\fuz\\AppData\\Local\\Temp\\ipykernel_19564\\1401744632.py:6: DeprecationWarning: executable_path has been deprecated, please pass in a Service object\n",
      "  driver = webdriver.Chrome('./chromedriver')\n"
     ]
    },
    {
     "name": "stdout",
     "output_type": "stream",
     "text": [
      "Test 1 passed: Test for login successful!\n"
     ]
    }
   ],
   "source": [
    "'''\n",
    "Automated Test for login\n",
    "\n",
    "'''\n",
    "try:\n",
    "    driver = webdriver.Chrome('./chromedriver')\n",
    "    driver.get('http://127.0.0.1:8000/accounts/login/')\n",
    "    driver.maximize_window()\n",
    "    username_field=driver.find_element(By.ID,'id_username')\n",
    "    password_field=driver.find_element(By.ID,'id_password')\n",
    "    login_button=driver.find_element(By.XPATH,\"/html/body/form/input[2]\")\n",
    "\n",
    "    time.sleep(1)\n",
    "    username_field.click()\n",
    "    time.sleep(1)\n",
    "    username_field.clear()\n",
    "    time.sleep(1)\n",
    "    username_field.send_keys(\"admin\")\n",
    "\n",
    "    time.sleep(1)   \n",
    "    password_field.click()\n",
    "    time.sleep(1)\n",
    "    password_field.clear()\n",
    "    time.sleep(1)\n",
    "    password_field.send_keys(\"admin\")\n",
    "    \n",
    "    time.sleep(1)\n",
    "    login_button.click()\n",
    "        \n",
    "    driver.get('http://127.0.0.1:8000/profile')\n",
    "    time.sleep(1)\n",
    "        \n",
    "    first_name=driver.find_element(By.XPATH,\"/html/body/article[1]/table/tbody/tr[1]/td[2]\")\n",
    "\n",
    "    if first_name.text=='admin':\n",
    "        print(\"Test 1 passed: Test for login successful!\")\n",
    "        \n",
    "    else:\n",
    "        print(\"Test 1 failed: Test for login failed!\")\n",
    "    driver.close()\n",
    "except Exception as e:\n",
    "    print(\"Test 1 failed: Test for login failed!\")\n",
    "    print(f\"Due to {e}\")      "
   ]
  },
  {
   "cell_type": "markdown",
   "metadata": {},
   "source": [
    "Now we will test for our signup page"
   ]
  },
  {
   "cell_type": "code",
   "execution_count": 44,
   "metadata": {},
   "outputs": [
    {
     "name": "stderr",
     "output_type": "stream",
     "text": [
      "C:\\Users\\fuz\\AppData\\Local\\Temp\\ipykernel_19564\\2380032988.py:7: DeprecationWarning: executable_path has been deprecated, please pass in a Service object\n",
      "  driver = webdriver.Chrome('./chromedriver')\n"
     ]
    },
    {
     "name": "stdout",
     "output_type": "stream",
     "text": [
      "Task Started\n",
      "Test 2: Test for signup successful!\n"
     ]
    }
   ],
   "source": [
    "\n",
    "try:\n",
    "    '''\n",
    "            Automated test for  signup page\n",
    "          \n",
    "    '''\n",
    "    #creating values to be inserted in signup form\n",
    "    driver = webdriver.Chrome('./chromedriver')\n",
    "        \n",
    "    driver.get(\"http://127.0.0.1:8000/signup\")\n",
    "    driver.maximize_window()\n",
    "        \n",
    "    print(\"Task Started\")\n",
    "    username=\"user\"+\"-\"+get_random_text()\n",
    "    firstname=get_random_text(5)\n",
    "    lastname=get_random_text(5)\n",
    "    password=get_random_text()\n",
    "    email_address=get_random_text()+\"@\"+\"test.com\"\n",
    "    \n",
    "    \n",
    "    \n",
    "        #select variable\n",
    "    username_field=driver.find_element(By.ID,\"id_username\")\n",
    "    firstname_field=driver.find_element(By.ID,\"id_first_name\")\n",
    "    lastname_field=driver.find_element(By.ID,\"id_last_name\")\n",
    "    email_field=driver.find_element(By.ID,\"id_email\")\n",
    "    password_field=driver.find_element(By.ID,\"id_password1\")\n",
    "    password_confirm_field=driver.find_element(By.ID,\"id_password2\")\n",
    "    gender_check=driver.find_elements(By.CSS_SELECTOR,\"input[type='radio']\")\n",
    "    genders=[gender for gender in gender_check]\n",
    "    occupations=driver.find_element(By.ID,\"id_occupation\")\n",
    "    occupation=Select(occupations)\n",
    "    \n",
    "    signup_button=driver.find_element(By.XPATH,\"/html/body/article/form/figure/button\")\n",
    "    \n",
    "        \n",
    "        \n",
    "    #username_field.click()\n",
    "    #driver.execute_script('arguments[0].click()',username_field)\n",
    "    driver.execute_script(\"arguments[0].scrollIntoView(true);\", username_field)\n",
    "    time.sleep(2)\n",
    "    username_field.click()\n",
    "    username_field.send_keys(username)\n",
    "   \n",
    "        \n",
    "    #firstname_field.click()\n",
    "    #driver.execute_script('arguments[0].click()',firstname_field)\n",
    "    driver.execute_script(\"arguments[0].scrollIntoView(true);\", firstname_field)\n",
    "    time.sleep(2)\n",
    "    firstname_field.click()\n",
    "    firstname_field.send_keys(firstname)\n",
    "\n",
    "    \n",
    "      \n",
    "    #lastname_field.click()\n",
    "    #driver.execute_script('arguments[0].click()',lastname_field)\n",
    "    driver.execute_script(\"arguments[0].scrollIntoView(true);\", lastname_field)\n",
    "    time.sleep(2)\n",
    "    lastname_field.click()\n",
    "    lastname_field.send_keys(lastname)\n",
    "\n",
    "    for i in genders:\n",
    "        driver.execute_script(\"arguments[0].scrollIntoView(true);\",i)\n",
    "        time.sleep(2)\n",
    "        i.click()\n",
    "    \n",
    "    driver.execute_script(\"arguments[0].scrollIntoView(true);\",genders[0])\n",
    "    time.sleep(1)\n",
    "    genders[0].click()\n",
    "        \n",
    "    for i in range(3):\n",
    "        time.sleep(2)\n",
    "        occupation.select_by_index(i)\n",
    "\n",
    "    time.sleep(1)    \n",
    "    \n",
    "        #email_field.click()\n",
    "        #driver.execute_script('arguments[0].click()',email_field)\n",
    "    driver.execute_script(\"arguments[0].scrollIntoView(true);\", email_field)\n",
    "    time.sleep(2)\n",
    "    email_field.click()\n",
    "    email_field.send_keys(email_address)\n",
    "\n",
    "    \n",
    "        \n",
    "        #password_field.click()\n",
    "        #driver.execute_script('arguments[0].click()',password_field)\n",
    "    driver.execute_script(\"arguments[0].scrollIntoView(true);\", password_field)\n",
    "    time.sleep(2)\n",
    "    password_field.click()\n",
    "    password_field.send_keys(password)\n",
    " \n",
    "\n",
    "        #password_confirm_field.click()\n",
    "        #driver.execute_script('arguments[0].click()',password_confirm_field)\n",
    "    driver.execute_script(\"arguments[0].scrollIntoView(true);\", password_confirm_field)\n",
    "    time.sleep(2)\n",
    "    password_confirm_field.click()\n",
    "    password_confirm_field.send_keys(password)\n",
    "\n",
    "    \n",
    "    \n",
    "        \n",
    "        \n",
    "            \n",
    "        \n",
    "    driver.execute_script('arguments[0].scrollIntoView(true);',signup_button)\n",
    "    time.sleep(2)\n",
    "    signup_button.click()\n",
    "    #driver.execute_script('arguments[0].click()',signup_button)\n",
    "        \n",
    "    #desired_url='http://127.0.0.1:8000/'\n",
    "    #current_url=driver.current_url\n",
    "    driver.get('http://127.0.0.1:8000/profile')\n",
    "    time.sleep(2)\n",
    "    test_name=driver.find_element(By.XPATH,'/html/body/article[1]/table/tbody/tr[1]/td[2]')\n",
    "    if test_name.text==firstname:\n",
    "        print(\"Test 2: Test for signup successful!\")\n",
    "    else:\n",
    "        print(\"Test 2:test for signup failed!\")\n",
    "        \n",
    "    #self.assertEqual(test_name.text,firstname,\"User not signed up test failed\")\n",
    "    driver.close()\n",
    "except Exception as e:\n",
    "    print(\"Test 2 passed: test for signup failed!\")\n",
    "    print(e)"
   ]
  },
  {
   "cell_type": "markdown",
   "metadata": {},
   "source": [
    "Test for artwork creation form"
   ]
  },
  {
   "cell_type": "code",
   "execution_count": 45,
   "metadata": {},
   "outputs": [
    {
     "name": "stderr",
     "output_type": "stream",
     "text": [
      "C:\\Users\\fuz\\AppData\\Local\\Temp\\ipykernel_19564\\4257031853.py:3: DeprecationWarning: executable_path has been deprecated, please pass in a Service object\n",
      "  driver = webdriver.Chrome('./chromedriver')\n"
     ]
    },
    {
     "name": "stdout",
     "output_type": "stream",
     "text": [
      "Test 3 passed: Test for artwork creation successful!\n"
     ]
    }
   ],
   "source": [
    "try:\n",
    "    '''\n",
    "    Automated test for artwork creation form\n",
    "    '''\n",
    "    driver = webdriver.Chrome('./chromedriver')\n",
    "    \n",
    "    login(driver)\n",
    "    driver.get('http://127.0.0.1:8000/create_artwork')\n",
    "        \n",
    "    artwork_name=driver.find_element(By.ID,'id_artwork_name')\n",
    "    ordinary_image=driver.find_element(By.ID,'id_ordinary_image')\n",
    "    artwork_image=driver.find_element(By.ID,'id_artwork_image')\n",
    "    submit_button=driver.find_element(By.XPATH,'/html/body/form/article/button')\n",
    "\n",
    "    time.sleep(2)   \n",
    "    artwork_name.click()\n",
    "    artwork_name.clear()\n",
    "    time.sleep(2)\n",
    "    artwork_name.send_keys(\"artwork-\"+get_random_text())\n",
    "\n",
    "    \n",
    "    current_dir=os.path.dirname(os.path.realpath('./image_for_testing'))\n",
    "    time.sleep(2)\n",
    "    ordinary_image.send_keys(current_dir+\"\\\\image_for_testing\\\\ordinary_image.jpg\")\n",
    "    time.sleep(2)\n",
    "    artwork_image.send_keys(current_dir+\"\\\\image_for_testing\\\\artwork_image.jpg\")\n",
    "        \n",
    "    \n",
    "        #driver.execute_script('arguments[0].click()',submit_button)\n",
    "    driver.execute_script('arguments[0].scrollIntoView(true);',submit_button)\n",
    "    time.sleep(2)\n",
    "    submit_button.click()\n",
    "\n",
    "        \n",
    "    success_text=driver.find_element(By.XPATH,'/html/body/h1')\n",
    "    time.sleep(5)\n",
    "    #self.assertEqual(success_text.text,\"ArtWork creation successful!\",\"Artwork creation failed\")\n",
    "    if success_text.text==\"ArtWork creation successful!\":\n",
    "        print(\"Test 3 passed: Test for artwork creation successful!\")\n",
    "        \n",
    "    else:\n",
    "        print(\"Test 3 failed: Test for artwork creation failed!\")\n",
    "\n",
    "    \n",
    "    driver.close()\n",
    "except Exception as e:\n",
    "    print(\"Test 3 failed: Test for artwork creation failed!\")\n",
    "    print(e)"
   ]
  },
  {
   "cell_type": "markdown",
   "metadata": {},
   "source": [
    "Test for artwork creation with famous style form "
   ]
  },
  {
   "cell_type": "code",
   "execution_count": 46,
   "metadata": {},
   "outputs": [
    {
     "name": "stderr",
     "output_type": "stream",
     "text": [
      "C:\\Users\\fuz\\AppData\\Local\\Temp\\ipykernel_19564\\2862884834.py:4: DeprecationWarning: executable_path has been deprecated, please pass in a Service object\n",
      "  driver = webdriver.Chrome('./chromedriver')\n"
     ]
    },
    {
     "name": "stdout",
     "output_type": "stream",
     "text": [
      "Test 4 passed: Test for artwork creation with  famous style successful!\n"
     ]
    }
   ],
   "source": [
    "try:\n",
    "\n",
    "    '''Automated  Test for artwork creation with famous artstyle'''\n",
    "    driver = webdriver.Chrome('./chromedriver')\n",
    "    \n",
    "    login(driver)\n",
    "    driver.get('http://127.0.0.1:8000/create_artwork_with_famous_artstyle')\n",
    "        \n",
    "    artwork_name=driver.find_element(By.ID,'id_artwork_name')\n",
    "    artstyle=driver.find_element(By.XPATH,'//*[@id=\"id_famous_artstyle\"]')\n",
    "    ordinary_image_field=driver.find_element(By.XPATH,'//*[@id=\"id_ordinary_image\"]')\n",
    "    submit_button=driver.find_element(By.XPATH,'/html/body/form/article/button')\n",
    "    artstyles=Select(artstyle)\n",
    "\n",
    "    time.sleep(2)\n",
    "    artwork_name.click()\n",
    "    artwork_name.send_keys(\"artwork-\"+get_random_text())\n",
    "\n",
    "    for i in range(0,len(artstyles.options)):\n",
    "        time.sleep(2)\n",
    "        artstyles.select_by_index(i)\n",
    "\n",
    "    time.sleep(2)\n",
    "    artstyles.select_by_index(1)\n",
    "\n",
    "\n",
    "    current_dir=os.path.dirname(os.path.realpath('./image_for_testing'))\n",
    "    driver.execute_script('arguments[0].scrollIntoView(true);',ordinary_image_field)\n",
    "    ordinary_image_field.send_keys(current_dir+\"\\\\image_for_testing\\\\ordinary_image.jpg\")\n",
    "\n",
    "    driver.execute_script('arguments[0].scrollIntoView(true);',submit_button)\n",
    "    time.sleep(1)\n",
    "    submit_button.click()\n",
    "\n",
    "    success_text=driver.find_element(By.XPATH,'/html/body/h1')\n",
    "    time.sleep(2)\n",
    "    if success_text.text=='ArtWork creation successful!':\n",
    "        print(\"Test 4 passed: Test for artwork creation with  famous style successful!\")\n",
    "    else:\n",
    "        print(\"Test 4 failed: Test for artwork creation with  famous style failed!\")\n",
    "\n",
    "    driver.close()\n",
    "except Exception as e:\n",
    "    print(\"Test 4 failed: Test for artwork creation with  famous style failed!\")\n",
    "    print(e)\n",
    "    \n",
    "\n",
    "    \n",
    "    "
   ]
  },
  {
   "cell_type": "markdown",
   "metadata": {},
   "source": [
    "Now lets test artwork creation with public artstyle"
   ]
  },
  {
   "cell_type": "code",
   "execution_count": 49,
   "metadata": {},
   "outputs": [
    {
     "name": "stderr",
     "output_type": "stream",
     "text": [
      "C:\\Users\\fuz\\AppData\\Local\\Temp\\ipykernel_19564\\1261689398.py:4: DeprecationWarning: executable_path has been deprecated, please pass in a Service object\n",
      "  driver = webdriver.Chrome('./chromedriver')\n"
     ]
    },
    {
     "name": "stdout",
     "output_type": "stream",
     "text": [
      "Test 5 passed: Test for artwork creation with public style successful!\n"
     ]
    }
   ],
   "source": [
    "try:\n",
    "\n",
    "    '''Automated  Test for artwork creation with public artstyle'''\n",
    "    driver = webdriver.Chrome('./chromedriver')\n",
    "    \n",
    "    login(driver)\n",
    "    driver.get('http://127.0.0.1:8000/')\n",
    "    \n",
    "    select_artwork=driver.find_element(By.XPATH,'/html/body/article/figure/article[4]/a[2]')\n",
    "    driver.execute_script('arguments[0].scrollIntoView(true);',select_artwork)\n",
    "    time.sleep(2)\n",
    "    select_artwork.click()\n",
    "\n",
    "    \n",
    "    use_style_button=driver.find_element(By.XPATH,'/html/body/article/article[2]/figure/a')\n",
    "    bottom=driver.find_element(By.XPATH,'/html/body/footer')\n",
    "    driver.execute_script('arguments[0].scrollIntoView(true);',bottom)\n",
    "    time.sleep(2)\n",
    "    driver.execute_script('arguments[0].scrollIntoView(true);',use_style_button)\n",
    "    time.sleep(2)\n",
    "    use_style_button.click()\n",
    "    \n",
    "    artwork_name=driver.find_element(By.ID,'id_artwork_name')\n",
    "    ordinary_image_field=driver.find_element(By.XPATH,'//*[@id=\"id_ordinary_image\"]')\n",
    "    upload_button=driver.find_element(By.XPATH,'/html/body/form/article/button')\n",
    "\n",
    "    current_dir=os.path.dirname(os.path.realpath('./image_for_testing'))\n",
    "    driver.execute_script('arguments[0].scrollIntoView(true);',ordinary_image_field)\n",
    "    ordinary_image_field.send_keys(current_dir+\"\\\\image_for_testing\\\\ordinary_image.jpg\")\n",
    "\n",
    "    artwork_name.clear()\n",
    "    driver.execute_script('arguments[0].scrollIntoView(true);',artwork_name)\n",
    "    time.sleep(2)\n",
    "    artwork_name.click()\n",
    "    artwork_name.send_keys(\"artwork-\"+get_random_text())\n",
    "   \n",
    "    \n",
    "    driver.execute_script('arguments[0].scrollIntoView(true);',upload_button)\n",
    "    time.sleep(2)\n",
    "    upload_button.click()\n",
    "\n",
    "    success_text=driver.find_element(By.XPATH,'/html/body/h1')\n",
    "    time.sleep(2)\n",
    "    \n",
    "    if success_text.text=='ArtWork creation successful!':\n",
    "        print(\"Test 5 passed: Test for artwork creation with public style successful!\")\n",
    "    else:\n",
    "        print(\"Test 5 failed: Test for artwork creation with public style failed!\")\n",
    "\n",
    "    driver.close()\n",
    "\n",
    "except Exception as e:\n",
    "    print(\"Test 5 failed: Test for artwork creation with public style failed!\")\n",
    "    print(e)"
   ]
  },
  {
   "cell_type": "markdown",
   "metadata": {},
   "source": [
    "Test for artstyle submission"
   ]
  },
  {
   "cell_type": "code",
   "execution_count": 50,
   "metadata": {},
   "outputs": [
    {
     "name": "stderr",
     "output_type": "stream",
     "text": [
      "C:\\Users\\fuz\\AppData\\Local\\Temp\\ipykernel_19564\\2458577374.py:4: DeprecationWarning: executable_path has been deprecated, please pass in a Service object\n",
      "  driver = webdriver.Chrome('./chromedriver')\n"
     ]
    },
    {
     "name": "stdout",
     "output_type": "stream",
     "text": [
      "Test 6 successful: Test for artstyle submission successful!\n"
     ]
    }
   ],
   "source": [
    "try:\n",
    "\n",
    "    '''Automated  Test for artstyle submission'''\n",
    "    driver = webdriver.Chrome('./chromedriver')\n",
    "    \n",
    "    login(driver)\n",
    "    driver.get('http://127.0.0.1:8000/submit_artstyle')\n",
    "\n",
    "    style_name=driver.find_element(By.XPATH,'//*[@id=\"id_style_name\"]')\n",
    "    style_image=driver.find_element(By.XPATH,'//*[@id=\"id_artStyle_image\"]')\n",
    "    submit_button=driver.find_element(By.XPATH,'/html/body/form/button')\n",
    "\n",
    "    style_name.clear()\n",
    "    time.sleep(2)\n",
    "    style_name.click()\n",
    "    time.sleep(2)\n",
    "    style_name.send_keys('artstyle'+get_random_text())\n",
    "    \n",
    "    current_dir=os.path.dirname(os.path.realpath('./image_for_testing'))\n",
    "    driver.execute_script('arguments[0].scrollIntoView(true);',style_image)\n",
    "    time.sleep(2)\n",
    "    style_image.send_keys(current_dir+\"\\\\image_for_testing\\\\artwork_image.jpg\")\n",
    "\n",
    "    driver.execute_script('arguments[0].scrollIntoView(true);',submit_button)\n",
    "    time.sleep(2)\n",
    "    submit_button.click()\n",
    "    \n",
    "    success_text=driver.find_element(By.XPATH,'/html/body/h1')\n",
    "    if success_text.text=='Artstyle submission successful!':\n",
    "        print(\"Test 6 passed: Test for artstyle submission successful!\")\n",
    "    else:\n",
    "        print(\"Test 6 failed: Test for artstyle submission failed!\")\n",
    "    time.sleep(1)\n",
    "    driver.close()\n",
    "\n",
    "except Exception as e:\n",
    "    print(\"Test 6 failed: Test for artstyle submission failed!\")\n",
    "    print(e)"
   ]
  },
  {
   "cell_type": "markdown",
   "metadata": {},
   "source": [
    "Finally lets test artwork comment form"
   ]
  },
  {
   "cell_type": "code",
   "execution_count": 51,
   "metadata": {},
   "outputs": [
    {
     "name": "stderr",
     "output_type": "stream",
     "text": [
      "C:\\Users\\fuz\\AppData\\Local\\Temp\\ipykernel_19564\\1978646863.py:4: DeprecationWarning: executable_path has been deprecated, please pass in a Service object\n",
      "  driver = webdriver.Chrome('./chromedriver')\n"
     ]
    },
    {
     "name": "stdout",
     "output_type": "stream",
     "text": [
      "Test 7 passed: Test for artwork comment successful!\n"
     ]
    }
   ],
   "source": [
    "try:\n",
    "\n",
    "    '''Automated  Test for artwork comment form '''\n",
    "    driver = webdriver.Chrome('./chromedriver')\n",
    "    \n",
    "    login(driver)\n",
    "    driver.get('http://127.0.0.1:8000/artworks/1')\n",
    "\n",
    "    add_comment_button=driver.find_element(By.XPATH,'/html/body/article/a/button')\n",
    "    driver.execute_script('arguments[0].scrollIntoView(true);',add_comment_button)\n",
    "    time.sleep(2)\n",
    "    add_comment_button.click()\n",
    "\n",
    "    comment_texts=\"testcomment\"+get_random_text()\n",
    "\n",
    "    comment_box=driver.find_element(By.XPATH,'//*[@id=\"id_description\"]')\n",
    "    comment_button=driver.find_element(By.XPATH,'/html/body/form/input[2]')\n",
    "\n",
    "    comment_box.clear()\n",
    "    time.sleep(2)\n",
    "    comment_box.send_keys(comment_texts)\n",
    "    \n",
    "    driver.execute_script('arguments[0].scrollIntoView(true);',comment_button)\n",
    "    time.sleep(2)\n",
    "    comment_button.click()\n",
    "\n",
    "    bottom_page=driver.find_element(By.XPATH,'/html/body/footer')\n",
    "    time.sleep(2)\n",
    "    driver.execute_script('arguments[0].scrollIntoView(true);',bottom_page)\n",
    "    time.sleep(2)\n",
    "    the_dom=driver.page_source\n",
    "    comment_displayed=comment_texts in the_dom\n",
    "    if comment_displayed==True:\n",
    "        print(\"Test 7 passed: Test for artwork comment successful!\")\n",
    "    else:\n",
    "        print(\"Test 7 Failed: Test for artwork comment failed!\")\n",
    "    \n",
    "    driver.close()\n",
    "except Exception as e:\n",
    "    \n",
    "    print(\"Test 7 failed: Test for artwork comment failed!\")\n",
    "    print(e)"
   ]
  }
 ],
 "metadata": {
  "kernelspec": {
   "display_name": "Python 3 (ipykernel)",
   "language": "python",
   "name": "python3"
  },
  "language_info": {
   "codemirror_mode": {
    "name": "ipython",
    "version": 3
   },
   "file_extension": ".py",
   "mimetype": "text/x-python",
   "name": "python",
   "nbconvert_exporter": "python",
   "pygments_lexer": "ipython3",
   "version": "3.10.1"
  },
  "vscode": {
   "interpreter": {
    "hash": "bfa4e00ba4ee2de99e9d9b30fd60f44ea2ba947052b35cdb7464f9476a8e4e90"
   }
  }
 },
 "nbformat": 4,
 "nbformat_minor": 2
}
